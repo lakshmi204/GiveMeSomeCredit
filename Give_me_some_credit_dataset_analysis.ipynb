{
 "cells": [
  {
   "cell_type": "markdown",
   "id": "e7829288",
   "metadata": {},
   "source": [
    "## Introduction"
   ]
  },
  {
   "cell_type": "markdown",
   "id": "5407ead7",
   "metadata": {},
   "source": [
    "From the dataset we can see that the training dataset contains 150,000 records, test dataset contains 101,503 records.\n",
    "There are 10 numeric independent variables and SeriousDlqin2yrs is the Dependent Variable and is binary, 0 or 1.\n",
    "The Goal of the problem is to Predict the probability of whether a customer will experience financial distress \n",
    "( 90 day delinquency or worse) in the next two years. "
   ]
  },
  {
   "cell_type": "markdown",
   "id": "095824df",
   "metadata": {},
   "source": [
    "## Variable explanantion"
   ]
  },
  {
   "cell_type": "markdown",
   "id": "ac70e680",
   "metadata": {},
   "source": [
    "SeriousDlqin2yrs : 1/0 whether a person will experience financial distress ( 90 day delinquency or worse) in the next two years\n",
    "\n",
    "RevolvingUtilizationOfUnsecuredLines : Total balance on credit cards and personal lines of credit except real estate and no installment debt like car loans divided by the sum of credit limits\n",
    "\n",
    "Age : Age of borrower in years\n",
    "\n",
    "NumberOfTime30-59DaysPastDueNotWorse : Number of times borrower has been 30-59 days past due but no worse in the last 2 years\n",
    "\n",
    "DebtRatio : Monthly debt payments, alimony,living costs divided by monthy gross income\n",
    "\n",
    "MonthlyIncome : Monthly income\n",
    "\n",
    "NumberOfOpenCreditLinesAndLoans : Number of Open loans (installment like car loan or mortgage) and Lines of credit (e.g. credit cards)\n",
    "\n",
    "NumberOfTimes90DaysLate :Number of times borrower has been 90 days or more past due\n",
    "\n",
    "NumberRealEstateLoansOrLines :Number of mortgage and real estate loans including home equity lines of credit\n",
    "\n",
    "NumberOfTime60-89DaysPastDueNotWorse : Number of times borrower has been 60-89 days past due but no worse in the last 2 years\n",
    "\n",
    "NumberOfDependents :Number of dependents in family excluding themselves (spouse, children etc.)"
   ]
  },
  {
   "cell_type": "markdown",
   "id": "2c74383f",
   "metadata": {},
   "source": [
    "### Import library"
   ]
  },
  {
   "cell_type": "code",
   "execution_count": 1,
   "id": "b99a446e",
   "metadata": {},
   "outputs": [],
   "source": [
    "import pandas as pd\n",
    "import numpy as np\n",
    "from sklearn.preprocessing import MinMaxScaler\n",
    "from sklearn.impute import KNNImputer\n",
    "from sklearn.model_selection import train_test_split\n",
    "from sklearn.metrics import accuracy_score\n",
    "import seaborn as sns\n",
    "import matplotlib.pyplot as plt\n",
    "from sklearn.metrics import roc_curve\n",
    "from sklearn.metrics import roc_auc_score\n",
    "from sklearn.inspection import permutation_importance\n"
   ]
  },
  {
   "cell_type": "markdown",
   "id": "abcfbfac",
   "metadata": {},
   "source": [
    "### Import dataset \n",
    "\n",
    "Dataset downloaded from [https://www.kaggle.com/competitions/GiveMeSomeCredit/data]"
   ]
  },
  {
   "cell_type": "code",
   "execution_count": 2,
   "id": "8df36e11",
   "metadata": {},
   "outputs": [],
   "source": [
    "train_df = pd.read_csv(\"cs-training.csv\")\n",
    "test_df = pd.read_csv(\"cs-test.csv\")\n",
    "train_df = train_df.drop('Unnamed: 0', axis=1)\n",
    "test_df = test_df.drop('Unnamed: 0', axis=1)\n"
   ]
  },
  {
   "cell_type": "code",
   "execution_count": 3,
   "id": "d406c201",
   "metadata": {},
   "outputs": [
    {
     "data": {
      "text/html": [
       "<div>\n",
       "<style scoped>\n",
       "    .dataframe tbody tr th:only-of-type {\n",
       "        vertical-align: middle;\n",
       "    }\n",
       "\n",
       "    .dataframe tbody tr th {\n",
       "        vertical-align: top;\n",
       "    }\n",
       "\n",
       "    .dataframe thead th {\n",
       "        text-align: right;\n",
       "    }\n",
       "</style>\n",
       "<table border=\"1\" class=\"dataframe\">\n",
       "  <thead>\n",
       "    <tr style=\"text-align: right;\">\n",
       "      <th></th>\n",
       "      <th>SeriousDlqin2yrs</th>\n",
       "      <th>RevolvingUtilizationOfUnsecuredLines</th>\n",
       "      <th>age</th>\n",
       "      <th>NumberOfTime30-59DaysPastDueNotWorse</th>\n",
       "      <th>DebtRatio</th>\n",
       "      <th>MonthlyIncome</th>\n",
       "      <th>NumberOfOpenCreditLinesAndLoans</th>\n",
       "      <th>NumberOfTimes90DaysLate</th>\n",
       "      <th>NumberRealEstateLoansOrLines</th>\n",
       "      <th>NumberOfTime60-89DaysPastDueNotWorse</th>\n",
       "      <th>NumberOfDependents</th>\n",
       "    </tr>\n",
       "  </thead>\n",
       "  <tbody>\n",
       "    <tr>\n",
       "      <th>0</th>\n",
       "      <td>1</td>\n",
       "      <td>0.766127</td>\n",
       "      <td>45</td>\n",
       "      <td>2</td>\n",
       "      <td>0.802982</td>\n",
       "      <td>9120.0</td>\n",
       "      <td>13</td>\n",
       "      <td>0</td>\n",
       "      <td>6</td>\n",
       "      <td>0</td>\n",
       "      <td>2.0</td>\n",
       "    </tr>\n",
       "    <tr>\n",
       "      <th>1</th>\n",
       "      <td>0</td>\n",
       "      <td>0.957151</td>\n",
       "      <td>40</td>\n",
       "      <td>0</td>\n",
       "      <td>0.121876</td>\n",
       "      <td>2600.0</td>\n",
       "      <td>4</td>\n",
       "      <td>0</td>\n",
       "      <td>0</td>\n",
       "      <td>0</td>\n",
       "      <td>1.0</td>\n",
       "    </tr>\n",
       "    <tr>\n",
       "      <th>2</th>\n",
       "      <td>0</td>\n",
       "      <td>0.658180</td>\n",
       "      <td>38</td>\n",
       "      <td>1</td>\n",
       "      <td>0.085113</td>\n",
       "      <td>3042.0</td>\n",
       "      <td>2</td>\n",
       "      <td>1</td>\n",
       "      <td>0</td>\n",
       "      <td>0</td>\n",
       "      <td>0.0</td>\n",
       "    </tr>\n",
       "    <tr>\n",
       "      <th>3</th>\n",
       "      <td>0</td>\n",
       "      <td>0.233810</td>\n",
       "      <td>30</td>\n",
       "      <td>0</td>\n",
       "      <td>0.036050</td>\n",
       "      <td>3300.0</td>\n",
       "      <td>5</td>\n",
       "      <td>0</td>\n",
       "      <td>0</td>\n",
       "      <td>0</td>\n",
       "      <td>0.0</td>\n",
       "    </tr>\n",
       "    <tr>\n",
       "      <th>4</th>\n",
       "      <td>0</td>\n",
       "      <td>0.907239</td>\n",
       "      <td>49</td>\n",
       "      <td>1</td>\n",
       "      <td>0.024926</td>\n",
       "      <td>63588.0</td>\n",
       "      <td>7</td>\n",
       "      <td>0</td>\n",
       "      <td>1</td>\n",
       "      <td>0</td>\n",
       "      <td>0.0</td>\n",
       "    </tr>\n",
       "  </tbody>\n",
       "</table>\n",
       "</div>"
      ],
      "text/plain": [
       "   SeriousDlqin2yrs  RevolvingUtilizationOfUnsecuredLines  age  \\\n",
       "0                 1                              0.766127   45   \n",
       "1                 0                              0.957151   40   \n",
       "2                 0                              0.658180   38   \n",
       "3                 0                              0.233810   30   \n",
       "4                 0                              0.907239   49   \n",
       "\n",
       "   NumberOfTime30-59DaysPastDueNotWorse  DebtRatio  MonthlyIncome  \\\n",
       "0                                     2   0.802982         9120.0   \n",
       "1                                     0   0.121876         2600.0   \n",
       "2                                     1   0.085113         3042.0   \n",
       "3                                     0   0.036050         3300.0   \n",
       "4                                     1   0.024926        63588.0   \n",
       "\n",
       "   NumberOfOpenCreditLinesAndLoans  NumberOfTimes90DaysLate  \\\n",
       "0                               13                        0   \n",
       "1                                4                        0   \n",
       "2                                2                        1   \n",
       "3                                5                        0   \n",
       "4                                7                        0   \n",
       "\n",
       "   NumberRealEstateLoansOrLines  NumberOfTime60-89DaysPastDueNotWorse  \\\n",
       "0                             6                                     0   \n",
       "1                             0                                     0   \n",
       "2                             0                                     0   \n",
       "3                             0                                     0   \n",
       "4                             1                                     0   \n",
       "\n",
       "   NumberOfDependents  \n",
       "0                 2.0  \n",
       "1                 1.0  \n",
       "2                 0.0  \n",
       "3                 0.0  \n",
       "4                 0.0  "
      ]
     },
     "execution_count": 3,
     "metadata": {},
     "output_type": "execute_result"
    }
   ],
   "source": [
    "train_df.head(5)"
   ]
  },
  {
   "cell_type": "markdown",
   "id": "7f3cb4df",
   "metadata": {},
   "source": [
    "## Exploring dataset\n",
    "\n",
    "### Label Distribution"
   ]
  },
  {
   "cell_type": "code",
   "execution_count": 4,
   "id": "271ad84b",
   "metadata": {},
   "outputs": [
    {
     "data": {
      "image/png": "[encoded data removed]",
      "text/plain": [
       "<Figure size 576x216 with 1 Axes>"
      ]
     },
     "metadata": {
      "needs_background": "light"
     },
     "output_type": "display_data"
    }
   ],
   "source": [
    "plt.figure(figsize=(8,3))\n",
    "train_df['SeriousDlqin2yrs'].value_counts().plot(kind='bar')\n",
    "plt.show()"
   ]
  },
  {
   "cell_type": "markdown",
   "id": "86570936",
   "metadata": {},
   "source": [
    "We see the class is imbalanced."
   ]
  },
  {
   "cell_type": "markdown",
   "id": "9ba76432",
   "metadata": {},
   "source": [
    "### Correlation Matrix"
   ]
  },
  {
   "cell_type": "code",
   "execution_count": 5,
   "id": "3ae91418",
   "metadata": {},
   "outputs": [
    {
     "data": {
      "text/plain": [
       "<AxesSubplot:>"
      ]
     },
     "execution_count": 5,
     "metadata": {},
     "output_type": "execute_result"
    },
    {
     "data": {
      "image/png": "[encoded data removed]",
      "text/plain": [
       "<Figure size 720x720 with 2 Axes>"
      ]
     },
     "metadata": {
      "needs_background": "light"
     },
     "output_type": "display_data"
    }
   ],
   "source": [
    "fig, ax = plt.subplots(figsize=(10, 10))\n",
    "sns.heatmap(train_df.corr(), annot=True, cmap=\"YlGn\", ax=ax)"
   ]
  },
  {
   "cell_type": "markdown",
   "id": "430bd286",
   "metadata": {},
   "source": [
    "From the correlation matrix we can see thatNumberOfTimes90DaysLate, NumberOfTime30-59DaysPastDueNotWorse, NumberOfTime60-89DaysPastDueNotWorse have a strong correlation."
   ]
  },
  {
   "cell_type": "markdown",
   "id": "72bd0bcd",
   "metadata": {},
   "source": [
    "### Based on age and number of days late\n",
    "\n",
    "Plotting graph for column NumberOfTimes90DaysLate, NumberOfTime30-59DaysPastDueNotWorse, NumberOfTime60-89DaysPastDueNotWorse by grouping age from 0 to 25, 25 to 50, 50 to 100. "
   ]
  },
  {
   "cell_type": "code",
   "execution_count": 6,
   "id": "4c460800",
   "metadata": {},
   "outputs": [],
   "source": [
    "cuts =  pd.cut(train_df['age'], [0,25,50, 100])\n",
    " \n",
    "grouped_by_age_90_days_late = (train_df.groupby([cuts])\n",
    "   .NumberOfTimes90DaysLate.sum()\n",
    "   .reset_index(name='NumberOfTimes90DaysLate')\n",
    ")\n",
    "grouped_by_age_90_days_late.columns = ['age bucket', 'sum of NumberOfTimes90DaysLate']\n"
   ]
  },
  {
   "cell_type": "code",
   "execution_count": 7,
   "id": "df6b95bf",
   "metadata": {},
   "outputs": [],
   "source": [
    "def group_age(days_late):\n",
    "    grouped_by_days_late = (train_df.groupby([cuts])\n",
    "       [days_late].sum()\n",
    "       .reset_index(name=days_late)\n",
    "    )\n",
    "    grouped_by_days_late.columns = ['age bucket', f'sum_of_{days_late}']  \n",
    "    return grouped_by_days_late\n"
   ]
  },
  {
   "cell_type": "code",
   "execution_count": 8,
   "id": "31d1185d",
   "metadata": {},
   "outputs": [],
   "source": [
    "df_NumberOfTimes90DaysLate = group_age('NumberOfTimes90DaysLate')\n",
    "\n",
    "df_NumberOfTime30_59DaysPastDueNotWorse = group_age('NumberOfTime30-59DaysPastDueNotWorse')\n",
    "\n",
    "df_NumberOfTime60_89DaysPastDueNotWorse = group_age('NumberOfTime60-89DaysPastDueNotWorse')\n"
   ]
  },
  {
   "cell_type": "code",
   "execution_count": 9,
   "id": "05e6dee0",
   "metadata": {},
   "outputs": [
    {
     "data": {
      "image/png": "[encoded data removed]",
      "text/plain": [
       "<Figure size 1296x216 with 3 Axes>"
      ]
     },
     "metadata": {},
     "output_type": "display_data"
    }
   ],
   "source": [
    "fig, axes = plt.subplots(1, 3, figsize=(18,3))\n",
    "\n",
    "axes[0].pie(x=df_NumberOfTime30_59DaysPastDueNotWorse[\"sum_of_NumberOfTime30-59DaysPastDueNotWorse\"], labels = df_NumberOfTime60_89DaysPastDueNotWorse[\"age bucket\"],autopct='%1.2f%%')\n",
    "axes[0].set_title(\"NumberOfTime30-59DaysPastDueNotWorse\")\n",
    "\n",
    "axes[1].pie(x=df_NumberOfTime60_89DaysPastDueNotWorse[\"sum_of_NumberOfTime60-89DaysPastDueNotWorse\"], labels = df_NumberOfTime60_89DaysPastDueNotWorse[\"age bucket\"],autopct='%1.2f%%')\n",
    "axes[1].set_title(\"sum_of_NumberOfTime60-89DaysPastDueNotWorse\")\n",
    "\n",
    "axes[2].pie(x=df_NumberOfTimes90DaysLate[\"sum_of_NumberOfTimes90DaysLate\"], labels = df_NumberOfTime60_89DaysPastDueNotWorse[\"age bucket\"],autopct='%1.2f%%')\n",
    "axes[2].set_title(\"sum_of_NumberOfTimes90DaysLate\")\n",
    "\n",
    "plt.show()"
   ]
  },
  {
   "cell_type": "markdown",
   "id": "0b2c3afa",
   "metadata": {},
   "source": [
    "From the pie chart we can see that number of times borrower has been 30 to 59 days or 60 to 89 days or 90 days or more past due the age group from 25-50 has the highest percentage. For age group 0 to 25 the number of time the borrower has been 30 to 59 days past due is 15.58% which is less compared to the 60 to 89 days and 90 days or more. It is clear from the graph that the age group from 25 to 50 has the highest percentage of borrowers who has past due.\n"
   ]
  },
  {
   "cell_type": "markdown",
   "id": "0810003c",
   "metadata": {},
   "source": [
    "### Relation between Monthly Income and NumberRealEstateLoansOrLines based on SeriousDlqin2yrs"
   ]
  },
  {
   "cell_type": "code",
   "execution_count": 10,
   "id": "2210054a",
   "metadata": {},
   "outputs": [
    {
     "data": {
      "text/html": [
       "<div>\n",
       "<style scoped>\n",
       "    .dataframe tbody tr th:only-of-type {\n",
       "        vertical-align: middle;\n",
       "    }\n",
       "\n",
       "    .dataframe tbody tr th {\n",
       "        vertical-align: top;\n",
       "    }\n",
       "\n",
       "    .dataframe thead th {\n",
       "        text-align: right;\n",
       "    }\n",
       "</style>\n",
       "<table border=\"1\" class=\"dataframe\">\n",
       "  <thead>\n",
       "    <tr style=\"text-align: right;\">\n",
       "      <th></th>\n",
       "      <th>SeriousDlqin2yrs</th>\n",
       "      <th>MonthlyIncome</th>\n",
       "      <th>sum of NumberRealEstateLoansOrLines</th>\n",
       "    </tr>\n",
       "  </thead>\n",
       "  <tbody>\n",
       "    <tr>\n",
       "      <th>0</th>\n",
       "      <td>0</td>\n",
       "      <td>(0, 5000]</td>\n",
       "      <td>33809</td>\n",
       "    </tr>\n",
       "    <tr>\n",
       "      <th>1</th>\n",
       "      <td>0</td>\n",
       "      <td>(5000, 10000]</td>\n",
       "      <td>52686</td>\n",
       "    </tr>\n",
       "    <tr>\n",
       "      <th>2</th>\n",
       "      <td>0</td>\n",
       "      <td>(10000, 50000]</td>\n",
       "      <td>29908</td>\n",
       "    </tr>\n",
       "    <tr>\n",
       "      <th>3</th>\n",
       "      <td>0</td>\n",
       "      <td>(50000, 100000]</td>\n",
       "      <td>493</td>\n",
       "    </tr>\n",
       "    <tr>\n",
       "      <th>4</th>\n",
       "      <td>0</td>\n",
       "      <td>(100000, 500000]</td>\n",
       "      <td>102</td>\n",
       "    </tr>\n",
       "    <tr>\n",
       "      <th>5</th>\n",
       "      <td>0</td>\n",
       "      <td>(500000, 1000000]</td>\n",
       "      <td>7</td>\n",
       "    </tr>\n",
       "    <tr>\n",
       "      <th>6</th>\n",
       "      <td>0</td>\n",
       "      <td>(1000000, 5000000]</td>\n",
       "      <td>8</td>\n",
       "    </tr>\n",
       "    <tr>\n",
       "      <th>7</th>\n",
       "      <td>1</td>\n",
       "      <td>(0, 5000]</td>\n",
       "      <td>3077</td>\n",
       "    </tr>\n",
       "    <tr>\n",
       "      <th>8</th>\n",
       "      <td>1</td>\n",
       "      <td>(5000, 10000]</td>\n",
       "      <td>3645</td>\n",
       "    </tr>\n",
       "    <tr>\n",
       "      <th>9</th>\n",
       "      <td>1</td>\n",
       "      <td>(10000, 50000]</td>\n",
       "      <td>1866</td>\n",
       "    </tr>\n",
       "    <tr>\n",
       "      <th>10</th>\n",
       "      <td>1</td>\n",
       "      <td>(50000, 100000]</td>\n",
       "      <td>39</td>\n",
       "    </tr>\n",
       "    <tr>\n",
       "      <th>11</th>\n",
       "      <td>1</td>\n",
       "      <td>(100000, 500000]</td>\n",
       "      <td>15</td>\n",
       "    </tr>\n",
       "    <tr>\n",
       "      <th>12</th>\n",
       "      <td>1</td>\n",
       "      <td>(500000, 1000000]</td>\n",
       "      <td>0</td>\n",
       "    </tr>\n",
       "    <tr>\n",
       "      <th>13</th>\n",
       "      <td>1</td>\n",
       "      <td>(1000000, 5000000]</td>\n",
       "      <td>0</td>\n",
       "    </tr>\n",
       "  </tbody>\n",
       "</table>\n",
       "</div>"
      ],
      "text/plain": [
       "    SeriousDlqin2yrs       MonthlyIncome  sum of NumberRealEstateLoansOrLines\n",
       "0                  0           (0, 5000]                                33809\n",
       "1                  0       (5000, 10000]                                52686\n",
       "2                  0      (10000, 50000]                                29908\n",
       "3                  0     (50000, 100000]                                  493\n",
       "4                  0    (100000, 500000]                                  102\n",
       "5                  0   (500000, 1000000]                                    7\n",
       "6                  0  (1000000, 5000000]                                    8\n",
       "7                  1           (0, 5000]                                 3077\n",
       "8                  1       (5000, 10000]                                 3645\n",
       "9                  1      (10000, 50000]                                 1866\n",
       "10                 1     (50000, 100000]                                   39\n",
       "11                 1    (100000, 500000]                                   15\n",
       "12                 1   (500000, 1000000]                                    0\n",
       "13                 1  (1000000, 5000000]                                    0"
      ]
     },
     "execution_count": 10,
     "metadata": {},
     "output_type": "execute_result"
    }
   ],
   "source": [
    "cuts =  pd.cut(train_df['MonthlyIncome'], [0,5000,10000,50000,100000,500000,1000000,5000000])\n",
    "\n",
    "\n",
    "grouped_by_monthly_income = (train_df.groupby(['SeriousDlqin2yrs', cuts])\n",
    "   .NumberRealEstateLoansOrLines.sum()\n",
    "   .reset_index(name='NumberRealEstateLoansOrLines')\n",
    ")\n",
    "grouped_by_monthly_income.columns = ['SeriousDlqin2yrs', 'MonthlyIncome','sum of NumberRealEstateLoansOrLines']\n",
    "grouped_by_monthly_income"
   ]
  },
  {
   "cell_type": "code",
   "execution_count": 11,
   "id": "7d5edab7",
   "metadata": {},
   "outputs": [],
   "source": [
    "grouped_by_monthly_income[grouped_by_monthly_income['SeriousDlqin2yrs'] == 0]['sum of NumberRealEstateLoansOrLines']\n",
    "\n",
    "grouped_by_monthly_income['MonthlyIncome'] = grouped_by_monthly_income['MonthlyIncome'].apply(lambda x: f'{x}')\n",
    "\n"
   ]
  },
  {
   "cell_type": "code",
   "execution_count": 12,
   "id": "cda4ade8",
   "metadata": {},
   "outputs": [
    {
     "data": {
      "image/png": "[encoded data removed]",
      "text/plain": [
       "<Figure size 1080x360 with 1 Axes>"
      ]
     },
     "metadata": {
      "needs_background": "light"
     },
     "output_type": "display_data"
    }
   ],
   "source": [
    "import matplotlib.pyplot as plt\n",
    "from math import log\n",
    "\n",
    "labels = list(grouped_by_monthly_income['MonthlyIncome'].unique())\n",
    "no_delinquency = list(grouped_by_monthly_income[grouped_by_monthly_income['SeriousDlqin2yrs'] == 0]['sum of NumberRealEstateLoansOrLines'])\n",
    "no_delinquency = [ log(i) for i in no_delinquency]\n",
    "delinquency = list(grouped_by_monthly_income[grouped_by_monthly_income['SeriousDlqin2yrs'] == 1]['sum of NumberRealEstateLoansOrLines'])\n",
    "delinquency = [ log(i) if i else i for i in delinquency  ]\n",
    "\n",
    "width = 0.35\n",
    "fig, ax = plt.subplots(figsize=(15,5))\n",
    "\n",
    "\n",
    "ax.bar(labels, no_delinquency, width,   label='no delinquency')\n",
    "ax.bar(labels, delinquency, width, bottom=delinquency, label='delinquency')\n",
    "\n",
    "ax.set_xlabel('Monthly Income')\n",
    "ax.set_ylabel('Sum of number of mortgage and real estate loans (log scale)')\n",
    "ax.set_title('Bar chart for Number of mortgage and real estate loans and Monthly Income based on Serious delinquency in 2 yrs ')\n",
    "ax.legend()\n",
    "\n",
    "plt.show()"
   ]
  },
  {
   "cell_type": "markdown",
   "id": "40e40791",
   "metadata": {},
   "source": [
    "In the above bar chart the value on y axis is sum of NumberRealEstateLoansOrLines which has been transformed to logarithmic scale. This has been done because when the values we are plotting span a large range for monthly income (0 to 5000) to (10000, 50000), using a logarithmic scale can help us to compress the scale and make the data easier to read. Logarithmic scales is useful when working with data that has a skewed distribution, as they help to show more detail in the lower end of the scale for income range between (100000, 500000) to (1000000,5000000).\n",
    "* From the graph we can see that person in income range between (5000 to 10000) has experienced high deliquency with the sum of 52686 as well as no deliquency with the sum of 3645 in past 2 years, due to number of mortgage and real estate loans including home equity lines of credit. \n",
    "* The highest income range person from (1000000 to 5000000) has experienced no deliquency due mortgage and real estate loans.\t\n",
    "* The graph makes it clear that people with low income levels have mortgage and real estate loans and are frequently default by 90 days or more.\n",
    "\n",
    "\n"
   ]
  },
  {
   "cell_type": "markdown",
   "id": "5953f410",
   "metadata": {},
   "source": [
    "### Relation between Age, Monthly Income and Debt ratio"
   ]
  },
  {
   "cell_type": "code",
   "execution_count": 13,
   "id": "bbef20c4",
   "metadata": {},
   "outputs": [
    {
     "data": {
      "text/html": [
       "<div>\n",
       "<style scoped>\n",
       "    .dataframe tbody tr th:only-of-type {\n",
       "        vertical-align: middle;\n",
       "    }\n",
       "\n",
       "    .dataframe tbody tr th {\n",
       "        vertical-align: top;\n",
       "    }\n",
       "\n",
       "    .dataframe thead th {\n",
       "        text-align: right;\n",
       "    }\n",
       "</style>\n",
       "<table border=\"1\" class=\"dataframe\">\n",
       "  <thead>\n",
       "    <tr style=\"text-align: right;\">\n",
       "      <th></th>\n",
       "      <th>age</th>\n",
       "      <th>monthly income</th>\n",
       "    </tr>\n",
       "  </thead>\n",
       "  <tbody>\n",
       "    <tr>\n",
       "      <th>0</th>\n",
       "      <td>(0, 25]</td>\n",
       "      <td>1992.730087</td>\n",
       "    </tr>\n",
       "    <tr>\n",
       "      <th>1</th>\n",
       "      <td>(25, 30]</td>\n",
       "      <td>3673.554835</td>\n",
       "    </tr>\n",
       "    <tr>\n",
       "      <th>2</th>\n",
       "      <td>(30, 35]</td>\n",
       "      <td>5180.510545</td>\n",
       "    </tr>\n",
       "    <tr>\n",
       "      <th>3</th>\n",
       "      <td>(35, 40]</td>\n",
       "      <td>6188.330111</td>\n",
       "    </tr>\n",
       "    <tr>\n",
       "      <th>4</th>\n",
       "      <td>(40, 45]</td>\n",
       "      <td>7243.002241</td>\n",
       "    </tr>\n",
       "    <tr>\n",
       "      <th>5</th>\n",
       "      <td>(45, 50]</td>\n",
       "      <td>7437.940519</td>\n",
       "    </tr>\n",
       "    <tr>\n",
       "      <th>6</th>\n",
       "      <td>(50, 55]</td>\n",
       "      <td>7867.948751</td>\n",
       "    </tr>\n",
       "    <tr>\n",
       "      <th>7</th>\n",
       "      <td>(55, 60]</td>\n",
       "      <td>7627.215218</td>\n",
       "    </tr>\n",
       "  </tbody>\n",
       "</table>\n",
       "</div>"
      ],
      "text/plain": [
       "        age  monthly income\n",
       "0   (0, 25]     1992.730087\n",
       "1  (25, 30]     3673.554835\n",
       "2  (30, 35]     5180.510545\n",
       "3  (35, 40]     6188.330111\n",
       "4  (40, 45]     7243.002241\n",
       "5  (45, 50]     7437.940519\n",
       "6  (50, 55]     7867.948751\n",
       "7  (55, 60]     7627.215218"
      ]
     },
     "execution_count": 13,
     "metadata": {},
     "output_type": "execute_result"
    }
   ],
   "source": [
    "cuts =  pd.cut(train_df['age'], [0, 25,30,35,40,45,50,55, 60])\n",
    "\n",
    "\n",
    "grouped_by_monthly_income = (train_df.groupby([cuts])\n",
    "   .MonthlyIncome.mean()\n",
    "   .reset_index(name='monthly income')\n",
    ")\n",
    "# grouped_by_monthly_income.columns = ['SeriousDlqin2yrs', 'MonthlyIncome','sum of NumberRealEstateLoansOrLines']\n",
    "grouped_by_monthly_income"
   ]
  },
  {
   "cell_type": "code",
   "execution_count": 14,
   "id": "5dac9bbe",
   "metadata": {},
   "outputs": [
    {
     "name": "stderr",
     "output_type": "stream",
     "text": [
      "/var/folders/6r/8n0kzrvd2f72hlgxv5_vbj7r0000gn/T/ipykernel_17658/2826910127.py:1: FutureWarning: Indexing with multiple keys (implicitly converted to a tuple of keys) will be deprecated, use a list instead.\n",
      "  grouped_by_age = train_df.groupby(['SeriousDlqin2yrs', cuts])['MonthlyIncome', 'DebtRatio'].mean().reset_index()\n"
     ]
    }
   ],
   "source": [
    "grouped_by_age = train_df.groupby(['SeriousDlqin2yrs', cuts])['MonthlyIncome', 'DebtRatio'].mean().reset_index()\n"
   ]
  },
  {
   "cell_type": "code",
   "execution_count": 15,
   "id": "30717fc5",
   "metadata": {},
   "outputs": [
    {
     "data": {
      "image/png": "[encoded data removed]",
      "text/plain": [
       "<Figure size 1080x360 with 1 Axes>"
      ]
     },
     "metadata": {
      "needs_background": "light"
     },
     "output_type": "display_data"
    }
   ],
   "source": [
    "import matplotlib.pyplot as plt\n",
    "from math import log\n",
    "\n",
    "labels = list(grouped_by_age['age'].unique())\n",
    "labels = [f'{label}' for label in labels]\n",
    "\n",
    "no_delinquency_age = list(grouped_by_age[grouped_by_age['SeriousDlqin2yrs'] == 0]['MonthlyIncome'])\n",
    "delinquency_age = list(grouped_by_age[grouped_by_age['SeriousDlqin2yrs'] == 1]['MonthlyIncome'])\n",
    "\n",
    "no_delinquency_debt_ratio = list(grouped_by_age[grouped_by_age['SeriousDlqin2yrs'] == 0]['DebtRatio'])\n",
    "delinquency_debt_ratio = list(grouped_by_age[grouped_by_age['SeriousDlqin2yrs'] == 1]['DebtRatio'])\n",
    "\n",
    "width = 0.35\n",
    "fig, ax = plt.subplots(figsize=(15,5))\n",
    "\n",
    "x = np.arange(len(labels))  \n",
    "\n",
    "\n",
    "ax.bar(x - width/2, delinquency_age, width,   label='delinquency by age', color=\"#ffc0cb\")\n",
    "ax.bar(x + width/2, no_delinquency_age, width,  label='no delinquency by age', color=\"#dda0dd\")\n",
    "\n",
    "ax.plot(labels, no_delinquency_debt_ratio,  color=\"#00008b\", label='debt ratio for no delinquency')\n",
    "ax.plot(labels, delinquency_debt_ratio, color=\"#ed0dd9\", label='debt ratio for delinquency')\n",
    "\n",
    "ax.set_xlabel('Age')\n",
    "ax.set_ylabel('Monthly Income')\n",
    "ax.set_title('Bar chart for Monthly Income and age and line chart on Debt Ratio ')\n",
    "ax.legend()\n",
    "\n",
    "plt.show()"
   ]
  },
  {
   "cell_type": "markdown",
   "id": "76754df8",
   "metadata": {},
   "source": [
    "Ages 0 to 25, 25 to 30, 30 to 35, 35 to 40, 40 to 45, 45 to 50, 50 to 55, and 55 to 60 are grouped together on the x axis of the above bar graph. The graph shows that those who are younger have low incomes, and as they get older, their incomes rise as well. We can see that those between the ages of 50 and 55 have the highest incomes.\n",
    "* In comparison to other age groups, the delinquency rate for those between the ages of 0 and 25 is high, while the rate for those without a delinquency is low. We can observe that no delinquency has gradually increased and decreased as income and age have increased.\n",
    "* The debt ratio is displayed in the graph's line chart. The debt-to-income ratio is slowly rising as people's ages rise. No delinquency and delinquency have almost the same debt ratios.\n"
   ]
  },
  {
   "cell_type": "markdown",
   "id": "aca74a98",
   "metadata": {},
   "source": [
    "### Outliers"
   ]
  },
  {
   "cell_type": "markdown",
   "id": "7d132164",
   "metadata": {},
   "source": [
    "Outliers are data that stand out from the rest of the data in a significant way. They can have a large effect on statistical analyses and modelling. By eliminating outliers, statistical models' precision and dependability can be increased.  Outliers may contain important information, therefore carefully evaluating the advantages and disadvantages of keeping them is crucial because doing so could induce bias."
   ]
  },
  {
   "cell_type": "markdown",
   "id": "4ce99d24",
   "metadata": {},
   "source": [
    "### Checking outliers for NumberOfTimes90DaysLate, NumberOfTime30-59DaysPastDueNotWorse, NumberOfTime60-89DaysPastDueNotWorse"
   ]
  },
  {
   "cell_type": "code",
   "execution_count": 16,
   "id": "ce3942ec",
   "metadata": {},
   "outputs": [
    {
     "data": {
      "text/plain": [
       "Text(0.5, 1.0, 'NumberOfTime60-89DaysPastDueNotWorse')"
      ]
     },
     "execution_count": 16,
     "metadata": {},
     "output_type": "execute_result"
    },
    {
     "data": {
      "image/png": "[encoded data removed]",
      "text/plain": [
       "<Figure size 1296x432 with 3 Axes>"
      ]
     },
     "metadata": {
      "needs_background": "light"
     },
     "output_type": "display_data"
    }
   ],
   "source": [
    "fig, axes = plt.subplots(1, 3, figsize=(18,6))\n",
    "sns.boxplot(x=train_df['NumberOfTimes90DaysLate'],ax = axes[0])\n",
    "axes[0].set_title('NumberOfTimes90DaysLate')\n",
    "sns.boxplot(x=train_df['NumberOfTime30-59DaysPastDueNotWorse'],ax = axes[1])\n",
    "axes[1].set_title('NumberOfTime30-59DaysPastDueNotWorse')\n",
    "sns.boxplot(x=train_df['NumberOfTime60-89DaysPastDueNotWorse'],ax = axes[2])\n",
    "axes[2].set_title('NumberOfTime60-89DaysPastDueNotWorse')"
   ]
  },
  {
   "cell_type": "markdown",
   "id": "aabce257",
   "metadata": {},
   "source": [
    "From the box plot we can see there are outliers present in the dataset for days beyond 90 days. Hence we will remove the outliers. "
   ]
  },
  {
   "cell_type": "code",
   "execution_count": 17,
   "id": "080921d4",
   "metadata": {},
   "outputs": [],
   "source": [
    "lower = 0\n",
    "upper = 90\n",
    "\n",
    "def remove_outliers(data,column):\n",
    "    outliers_removed = data[data[column].between(lower, upper)]\n",
    "    return outliers_removed"
   ]
  },
  {
   "cell_type": "code",
   "execution_count": 18,
   "id": "22ee1e18",
   "metadata": {},
   "outputs": [],
   "source": [
    "outlier_removed_train_df = remove_outliers(train_df,'NumberOfTimes90DaysLate')\n",
    "outlier_removed_train_df = remove_outliers(outlier_removed_train_df,'NumberOfTime30-59DaysPastDueNotWorse')\n",
    "outlier_removed_train_df = remove_outliers(outlier_removed_train_df,'NumberOfTime60-89DaysPastDueNotWorse')"
   ]
  },
  {
   "cell_type": "code",
   "execution_count": 19,
   "id": "3198120e",
   "metadata": {},
   "outputs": [],
   "source": [
    "train_df = outlier_removed_train_df"
   ]
  },
  {
   "cell_type": "markdown",
   "id": "32f4c9e6",
   "metadata": {},
   "source": [
    "### Boxplot after removing outliers for NumberOfTimes90DaysLate, NumberOfTime30-59DaysPastDueNotWorse, NumberOfTime60-89DaysPastDueNotWorse"
   ]
  },
  {
   "cell_type": "code",
   "execution_count": 20,
   "id": "7afc73dc",
   "metadata": {},
   "outputs": [
    {
     "data": {
      "text/plain": [
       "Text(0.5, 1.0, 'NumberOfTime60-89DaysPastDueNotWorse')"
      ]
     },
     "execution_count": 20,
     "metadata": {},
     "output_type": "execute_result"
    },
    {
     "data": {
      "image/png": "[encoded data removed]",
      "text/plain": [
       "<Figure size 1296x432 with 3 Axes>"
      ]
     },
     "metadata": {
      "needs_background": "light"
     },
     "output_type": "display_data"
    }
   ],
   "source": [
    "fig, axes = plt.subplots(1, 3, figsize=(18,6))\n",
    "sns.boxplot(x=train_df['NumberOfTimes90DaysLate'],ax = axes[0])\n",
    "axes[0].set_title('NumberOfTimes90DaysLate')\n",
    "sns.boxplot(x=train_df['NumberOfTime30-59DaysPastDueNotWorse'],ax = axes[1])\n",
    "axes[1].set_title('NumberOfTime30-59DaysPastDueNotWorse')\n",
    "sns.boxplot(x=train_df['NumberOfTime60-89DaysPastDueNotWorse'],ax = axes[2])\n",
    "axes[2].set_title('NumberOfTime60-89DaysPastDueNotWorse')"
   ]
  },
  {
   "cell_type": "markdown",
   "id": "461333cd",
   "metadata": {},
   "source": [
    "### Checking outliers for RevolvingUtilizationOfUnsecuredLines\n",
    "\n",
    "Since the Credit Utilization is anticipated to fall within the range (0-1) , the RevolvingUtilizationOfUnsecuredLines column has been verified. However, we observe values that are outside of this range. Even yet, borrowers occasionally go above their credit limit. 2% of the dataset is made up of numbers between 1 and 10. Values greater than 10 are quite large and represent less than 0.5% of our data; they would be removed to avoid having an impact on our model."
   ]
  },
  {
   "cell_type": "code",
   "execution_count": 21,
   "id": "d228bf8a",
   "metadata": {},
   "outputs": [
    {
     "data": {
      "text/plain": [
       "<AxesSubplot:>"
      ]
     },
     "execution_count": 21,
     "metadata": {},
     "output_type": "execute_result"
    },
    {
     "data": {
      "image/png": "[encoded data removed]",
      "text/plain": [
       "<Figure size 432x288 with 1 Axes>"
      ]
     },
     "metadata": {
      "needs_background": "light"
     },
     "output_type": "display_data"
    }
   ],
   "source": [
    "train_df.boxplot(column=['RevolvingUtilizationOfUnsecuredLines'])  \n"
   ]
  },
  {
   "cell_type": "markdown",
   "id": "83243e37",
   "metadata": {},
   "source": [
    "Below box plot showing credit utilization less than 10. "
   ]
  },
  {
   "cell_type": "code",
   "execution_count": 22,
   "id": "a89d2562",
   "metadata": {},
   "outputs": [
    {
     "data": {
      "text/plain": [
       "<AxesSubplot:>"
      ]
     },
     "execution_count": 22,
     "metadata": {},
     "output_type": "execute_result"
    },
    {
     "data": {
      "image/png": "[encoded data removed]",
      "text/plain": [
       "<Figure size 432x288 with 1 Axes>"
      ]
     },
     "metadata": {
      "needs_background": "light"
     },
     "output_type": "display_data"
    }
   ],
   "source": [
    "temp = train_df[train_df['RevolvingUtilizationOfUnsecuredLines'] <= 10]\n",
    "temp.boxplot(column=['RevolvingUtilizationOfUnsecuredLines'])  "
   ]
  },
  {
   "cell_type": "code",
   "execution_count": 23,
   "id": "7e228f41",
   "metadata": {},
   "outputs": [
    {
     "data": {
      "text/plain": [
       "0.7042918686082079"
      ]
     },
     "execution_count": 23,
     "metadata": {},
     "output_type": "execute_result"
    }
   ],
   "source": [
    "tmp = train_df[train_df['SeriousDlqin2yrs'] == 1]\n",
    "tmp[tmp['RevolvingUtilizationOfUnsecuredLines'] < 10]['RevolvingUtilizationOfUnsecuredLines'].mean()"
   ]
  },
  {
   "cell_type": "code",
   "execution_count": 24,
   "id": "62deff8a",
   "metadata": {},
   "outputs": [
    {
     "data": {
      "text/plain": [
       "0.2945055021541797"
      ]
     },
     "execution_count": 24,
     "metadata": {},
     "output_type": "execute_result"
    }
   ],
   "source": [
    "tmp = train_df[train_df['SeriousDlqin2yrs'] == 0]\n",
    "tmp[tmp['RevolvingUtilizationOfUnsecuredLines'] < 10]['RevolvingUtilizationOfUnsecuredLines'].mean()"
   ]
  },
  {
   "cell_type": "markdown",
   "id": "76c8044b",
   "metadata": {},
   "source": [
    "When we calculate the average credit utilisation for people in financial difficulty, we also notice that the number is high (70.42%), while the value for those who are not in financial difficulty is low (29.45%). And it is true that people who use their credit cards heavily are more likely to experience financial hardship."
   ]
  },
  {
   "cell_type": "markdown",
   "id": "9bbafa77",
   "metadata": {},
   "source": [
    "### Removing outliers for RevolvingUtilizationOfUnsecuredLines"
   ]
  },
  {
   "cell_type": "code",
   "execution_count": 25,
   "id": "4a02f91d",
   "metadata": {},
   "outputs": [],
   "source": [
    "train_df = train_df[train_df['RevolvingUtilizationOfUnsecuredLines'] <= 10]"
   ]
  },
  {
   "cell_type": "markdown",
   "id": "05a431a2",
   "metadata": {},
   "source": [
    "## Missing Values\n",
    "\n",
    "A dataset should be checked for missing values because they can affect how accurately statistical analyses and modelling are performed. Missing values might produce skewed or false findings if they are not properly accounted for."
   ]
  },
  {
   "cell_type": "markdown",
   "id": "fe258c5d",
   "metadata": {},
   "source": [
    "### Checking for missing values in dataset"
   ]
  },
  {
   "cell_type": "code",
   "execution_count": 26,
   "id": "fcdcb44e",
   "metadata": {},
   "outputs": [
    {
     "data": {
      "text/html": [
       "<div>\n",
       "<style scoped>\n",
       "    .dataframe tbody tr th:only-of-type {\n",
       "        vertical-align: middle;\n",
       "    }\n",
       "\n",
       "    .dataframe tbody tr th {\n",
       "        vertical-align: top;\n",
       "    }\n",
       "\n",
       "    .dataframe thead th {\n",
       "        text-align: right;\n",
       "    }\n",
       "</style>\n",
       "<table border=\"1\" class=\"dataframe\">\n",
       "  <thead>\n",
       "    <tr style=\"text-align: right;\">\n",
       "      <th></th>\n",
       "      <th>count</th>\n",
       "      <th>ratio</th>\n",
       "    </tr>\n",
       "  </thead>\n",
       "  <tbody>\n",
       "    <tr>\n",
       "      <th>SeriousDlqin2yrs</th>\n",
       "      <td>0</td>\n",
       "      <td>0.000000</td>\n",
       "    </tr>\n",
       "    <tr>\n",
       "      <th>RevolvingUtilizationOfUnsecuredLines</th>\n",
       "      <td>0</td>\n",
       "      <td>0.000000</td>\n",
       "    </tr>\n",
       "    <tr>\n",
       "      <th>age</th>\n",
       "      <td>0</td>\n",
       "      <td>0.000000</td>\n",
       "    </tr>\n",
       "    <tr>\n",
       "      <th>NumberOfTime30-59DaysPastDueNotWorse</th>\n",
       "      <td>0</td>\n",
       "      <td>0.000000</td>\n",
       "    </tr>\n",
       "    <tr>\n",
       "      <th>DebtRatio</th>\n",
       "      <td>0</td>\n",
       "      <td>0.000000</td>\n",
       "    </tr>\n",
       "    <tr>\n",
       "      <th>MonthlyIncome</th>\n",
       "      <td>29542</td>\n",
       "      <td>19.761857</td>\n",
       "    </tr>\n",
       "    <tr>\n",
       "      <th>NumberOfOpenCreditLinesAndLoans</th>\n",
       "      <td>0</td>\n",
       "      <td>0.000000</td>\n",
       "    </tr>\n",
       "    <tr>\n",
       "      <th>NumberOfTimes90DaysLate</th>\n",
       "      <td>0</td>\n",
       "      <td>0.000000</td>\n",
       "    </tr>\n",
       "    <tr>\n",
       "      <th>NumberRealEstateLoansOrLines</th>\n",
       "      <td>0</td>\n",
       "      <td>0.000000</td>\n",
       "    </tr>\n",
       "    <tr>\n",
       "      <th>NumberOfTime60-89DaysPastDueNotWorse</th>\n",
       "      <td>0</td>\n",
       "      <td>0.000000</td>\n",
       "    </tr>\n",
       "    <tr>\n",
       "      <th>NumberOfDependents</th>\n",
       "      <td>3880</td>\n",
       "      <td>2.595491</td>\n",
       "    </tr>\n",
       "  </tbody>\n",
       "</table>\n",
       "</div>"
      ],
      "text/plain": [
       "                                      count      ratio\n",
       "SeriousDlqin2yrs                          0   0.000000\n",
       "RevolvingUtilizationOfUnsecuredLines      0   0.000000\n",
       "age                                       0   0.000000\n",
       "NumberOfTime30-59DaysPastDueNotWorse      0   0.000000\n",
       "DebtRatio                                 0   0.000000\n",
       "MonthlyIncome                         29542  19.761857\n",
       "NumberOfOpenCreditLinesAndLoans           0   0.000000\n",
       "NumberOfTimes90DaysLate                   0   0.000000\n",
       "NumberRealEstateLoansOrLines              0   0.000000\n",
       "NumberOfTime60-89DaysPastDueNotWorse      0   0.000000\n",
       "NumberOfDependents                     3880   2.595491"
      ]
     },
     "execution_count": 26,
     "metadata": {},
     "output_type": "execute_result"
    }
   ],
   "source": [
    "pd.DataFrame({'count':train_df.isnull().sum().values, 'ratio': train_df.isnull().mean() * 100})\n"
   ]
  },
  {
   "cell_type": "code",
   "execution_count": 27,
   "id": "5a9d3546",
   "metadata": {},
   "outputs": [
    {
     "data": {
      "text/html": [
       "<div>\n",
       "<style scoped>\n",
       "    .dataframe tbody tr th:only-of-type {\n",
       "        vertical-align: middle;\n",
       "    }\n",
       "\n",
       "    .dataframe tbody tr th {\n",
       "        vertical-align: top;\n",
       "    }\n",
       "\n",
       "    .dataframe thead th {\n",
       "        text-align: right;\n",
       "    }\n",
       "</style>\n",
       "<table border=\"1\" class=\"dataframe\">\n",
       "  <thead>\n",
       "    <tr style=\"text-align: right;\">\n",
       "      <th></th>\n",
       "      <th>MonthlyIncome</th>\n",
       "      <th>DebtRatio</th>\n",
       "    </tr>\n",
       "  </thead>\n",
       "  <tbody>\n",
       "    <tr>\n",
       "      <th>count</th>\n",
       "      <td>0.0</td>\n",
       "      <td>3880.000000</td>\n",
       "    </tr>\n",
       "    <tr>\n",
       "      <th>mean</th>\n",
       "      <td>NaN</td>\n",
       "      <td>1093.029381</td>\n",
       "    </tr>\n",
       "    <tr>\n",
       "      <th>std</th>\n",
       "      <td>NaN</td>\n",
       "      <td>4208.981558</td>\n",
       "    </tr>\n",
       "    <tr>\n",
       "      <th>min</th>\n",
       "      <td>NaN</td>\n",
       "      <td>0.000000</td>\n",
       "    </tr>\n",
       "    <tr>\n",
       "      <th>25%</th>\n",
       "      <td>NaN</td>\n",
       "      <td>22.000000</td>\n",
       "    </tr>\n",
       "    <tr>\n",
       "      <th>50%</th>\n",
       "      <td>NaN</td>\n",
       "      <td>373.000000</td>\n",
       "    </tr>\n",
       "    <tr>\n",
       "      <th>75%</th>\n",
       "      <td>NaN</td>\n",
       "      <td>1571.000000</td>\n",
       "    </tr>\n",
       "    <tr>\n",
       "      <th>max</th>\n",
       "      <td>NaN</td>\n",
       "      <td>220516.000000</td>\n",
       "    </tr>\n",
       "  </tbody>\n",
       "</table>\n",
       "</div>"
      ],
      "text/plain": [
       "       MonthlyIncome      DebtRatio\n",
       "count            0.0    3880.000000\n",
       "mean             NaN    1093.029381\n",
       "std              NaN    4208.981558\n",
       "min              NaN       0.000000\n",
       "25%              NaN      22.000000\n",
       "50%              NaN     373.000000\n",
       "75%              NaN    1571.000000\n",
       "max              NaN  220516.000000"
      ]
     },
     "execution_count": 27,
     "metadata": {},
     "output_type": "execute_result"
    }
   ],
   "source": [
    "train_df[train_df['NumberOfDependents'].isnull()][['MonthlyIncome', 'DebtRatio']].describe()\n"
   ]
  },
  {
   "cell_type": "markdown",
   "id": "04fd0ce2",
   "metadata": {},
   "source": [
    "There are only two features with missing values:\n",
    "Monthly Income with the count of 29542 and Number of Dependents with count of 3880 in training dataset."
   ]
  },
  {
   "cell_type": "markdown",
   "id": "f0e10f9f",
   "metadata": {},
   "source": [
    "### Handling missing values"
   ]
  },
  {
   "cell_type": "markdown",
   "id": "9cd7be59",
   "metadata": {},
   "source": [
    "* Handling Missing Monthly Income \n",
    "\n",
    "The monthly income of borrowers with high debt ratios, as summarised by statistics, is zero. This could imply that borrowers with missing monthly income purposefully left the column blank because they are low-wage earners. \n",
    "\n",
    "* Handling Missing Number of Dependents\n",
    "\n",
    "Records with missing MonthlyIncome also had records with missing Number of Dependents. This demonstrates that the same group of borrowers who left the Monthly Income field empty also did the same with the Dependents field. They don't have any dependents, according to the statistics for borrowers who have missing monthly income. It makes sense that borrowers in this category—those with little to no income—do not have any dependents.\n",
    "\n",
    "Machine learning's MinMaxScaler is a preprocessing technique that changes a dataset's features by scaling the data so that it has a minimum value of 0 and a maximum value of 1. MinMaxScaler is used to normalize the features of a dataset .The performance of the model can be enhanced in these circumstances by using MinMaxScaler to scale all of the features to the same value.\n",
    "\n",
    "KNNImputer is an imputation method for filling in missing values in a dataset using the k-nearest neighbors algorithm. It works by finding the k-nearest neighbors of each sample with missing values, and then using the values of those neighbors to impute the missing values."
   ]
  },
  {
   "cell_type": "code",
   "execution_count": 28,
   "id": "2802d9de",
   "metadata": {},
   "outputs": [
    {
     "data": {
      "text/html": [
       "<div>\n",
       "<style scoped>\n",
       "    .dataframe tbody tr th:only-of-type {\n",
       "        vertical-align: middle;\n",
       "    }\n",
       "\n",
       "    .dataframe tbody tr th {\n",
       "        vertical-align: top;\n",
       "    }\n",
       "\n",
       "    .dataframe thead th {\n",
       "        text-align: right;\n",
       "    }\n",
       "</style>\n",
       "<table border=\"1\" class=\"dataframe\">\n",
       "  <thead>\n",
       "    <tr style=\"text-align: right;\">\n",
       "      <th></th>\n",
       "      <th>SeriousDlqin2yrs</th>\n",
       "      <th>RevolvingUtilizationOfUnsecuredLines</th>\n",
       "      <th>age</th>\n",
       "      <th>NumberOfTime30-59DaysPastDueNotWorse</th>\n",
       "      <th>DebtRatio</th>\n",
       "      <th>MonthlyIncome</th>\n",
       "      <th>NumberOfOpenCreditLinesAndLoans</th>\n",
       "      <th>NumberOfTimes90DaysLate</th>\n",
       "      <th>NumberRealEstateLoansOrLines</th>\n",
       "      <th>NumberOfTime60-89DaysPastDueNotWorse</th>\n",
       "      <th>NumberOfDependents</th>\n",
       "    </tr>\n",
       "  </thead>\n",
       "  <tbody>\n",
       "    <tr>\n",
       "      <th>0</th>\n",
       "      <td>1.0</td>\n",
       "      <td>0.086550</td>\n",
       "      <td>0.412844</td>\n",
       "      <td>0.153846</td>\n",
       "      <td>2.435759e-06</td>\n",
       "      <td>0.003031</td>\n",
       "      <td>0.224138</td>\n",
       "      <td>0.000000</td>\n",
       "      <td>0.111111</td>\n",
       "      <td>0.0</td>\n",
       "      <td>0.10</td>\n",
       "    </tr>\n",
       "    <tr>\n",
       "      <th>1</th>\n",
       "      <td>0.0</td>\n",
       "      <td>0.108130</td>\n",
       "      <td>0.366972</td>\n",
       "      <td>0.000000</td>\n",
       "      <td>3.696982e-07</td>\n",
       "      <td>0.000864</td>\n",
       "      <td>0.068966</td>\n",
       "      <td>0.000000</td>\n",
       "      <td>0.000000</td>\n",
       "      <td>0.0</td>\n",
       "      <td>0.05</td>\n",
       "    </tr>\n",
       "    <tr>\n",
       "      <th>2</th>\n",
       "      <td>0.0</td>\n",
       "      <td>0.074355</td>\n",
       "      <td>0.348624</td>\n",
       "      <td>0.076923</td>\n",
       "      <td>2.581822e-07</td>\n",
       "      <td>0.001011</td>\n",
       "      <td>0.034483</td>\n",
       "      <td>0.058824</td>\n",
       "      <td>0.000000</td>\n",
       "      <td>0.0</td>\n",
       "      <td>0.00</td>\n",
       "    </tr>\n",
       "    <tr>\n",
       "      <th>3</th>\n",
       "      <td>0.0</td>\n",
       "      <td>0.026414</td>\n",
       "      <td>0.275229</td>\n",
       "      <td>0.000000</td>\n",
       "      <td>1.093528e-07</td>\n",
       "      <td>0.001097</td>\n",
       "      <td>0.086207</td>\n",
       "      <td>0.000000</td>\n",
       "      <td>0.000000</td>\n",
       "      <td>0.0</td>\n",
       "      <td>0.00</td>\n",
       "    </tr>\n",
       "    <tr>\n",
       "      <th>4</th>\n",
       "      <td>0.0</td>\n",
       "      <td>0.102491</td>\n",
       "      <td>0.449541</td>\n",
       "      <td>0.076923</td>\n",
       "      <td>7.560939e-08</td>\n",
       "      <td>0.021134</td>\n",
       "      <td>0.120690</td>\n",
       "      <td>0.000000</td>\n",
       "      <td>0.018519</td>\n",
       "      <td>0.0</td>\n",
       "      <td>0.00</td>\n",
       "    </tr>\n",
       "  </tbody>\n",
       "</table>\n",
       "</div>"
      ],
      "text/plain": [
       "   SeriousDlqin2yrs  RevolvingUtilizationOfUnsecuredLines       age  \\\n",
       "0               1.0                              0.086550  0.412844   \n",
       "1               0.0                              0.108130  0.366972   \n",
       "2               0.0                              0.074355  0.348624   \n",
       "3               0.0                              0.026414  0.275229   \n",
       "4               0.0                              0.102491  0.449541   \n",
       "\n",
       "   NumberOfTime30-59DaysPastDueNotWorse     DebtRatio  MonthlyIncome  \\\n",
       "0                              0.153846  2.435759e-06       0.003031   \n",
       "1                              0.000000  3.696982e-07       0.000864   \n",
       "2                              0.076923  2.581822e-07       0.001011   \n",
       "3                              0.000000  1.093528e-07       0.001097   \n",
       "4                              0.076923  7.560939e-08       0.021134   \n",
       "\n",
       "   NumberOfOpenCreditLinesAndLoans  NumberOfTimes90DaysLate  \\\n",
       "0                         0.224138                 0.000000   \n",
       "1                         0.068966                 0.000000   \n",
       "2                         0.034483                 0.058824   \n",
       "3                         0.086207                 0.000000   \n",
       "4                         0.120690                 0.000000   \n",
       "\n",
       "   NumberRealEstateLoansOrLines  NumberOfTime60-89DaysPastDueNotWorse  \\\n",
       "0                      0.111111                                   0.0   \n",
       "1                      0.000000                                   0.0   \n",
       "2                      0.000000                                   0.0   \n",
       "3                      0.000000                                   0.0   \n",
       "4                      0.018519                                   0.0   \n",
       "\n",
       "   NumberOfDependents  \n",
       "0                0.10  \n",
       "1                0.05  \n",
       "2                0.00  \n",
       "3                0.00  \n",
       "4                0.00  "
      ]
     },
     "execution_count": 28,
     "metadata": {},
     "output_type": "execute_result"
    }
   ],
   "source": [
    "scaler = MinMaxScaler()\n",
    "train_df_normalize = pd.DataFrame(scaler.fit_transform(train_df), columns = train_df.columns)\n",
    "train_df_normalize.head()"
   ]
  },
  {
   "cell_type": "code",
   "execution_count": 29,
   "id": "13b18602",
   "metadata": {},
   "outputs": [],
   "source": [
    "imputer = KNNImputer()\n",
    "imputer.fit(train_df_normalize)\n",
    "train_df_no_null_values = imputer.transform(train_df_normalize)\n"
   ]
  },
  {
   "cell_type": "code",
   "execution_count": 30,
   "id": "443ea0c0",
   "metadata": {},
   "outputs": [
    {
     "data": {
      "text/plain": [
       "0     0\n",
       "1     0\n",
       "2     0\n",
       "3     0\n",
       "4     0\n",
       "5     0\n",
       "6     0\n",
       "7     0\n",
       "8     0\n",
       "9     0\n",
       "10    0\n",
       "dtype: int64"
      ]
     },
     "execution_count": 30,
     "metadata": {},
     "output_type": "execute_result"
    }
   ],
   "source": [
    "train_data = pd.DataFrame(train_df_no_null_values)\n",
    "train_data.isnull().sum()"
   ]
  },
  {
   "cell_type": "code",
   "execution_count": 31,
   "id": "7ef846dd",
   "metadata": {},
   "outputs": [
    {
     "name": "stdout",
     "output_type": "stream",
     "text": [
      "<class 'pandas.core.frame.DataFrame'>\n",
      "Int64Index: 149490 entries, 0 to 149999\n",
      "Data columns (total 10 columns):\n",
      " #   Column                                Non-Null Count   Dtype  \n",
      "---  ------                                --------------   -----  \n",
      " 0   RevolvingUtilizationOfUnsecuredLines  149490 non-null  float64\n",
      " 1   age                                   149490 non-null  int64  \n",
      " 2   NumberOfTime30-59DaysPastDueNotWorse  149490 non-null  int64  \n",
      " 3   DebtRatio                             149490 non-null  float64\n",
      " 4   MonthlyIncome                         119948 non-null  float64\n",
      " 5   NumberOfOpenCreditLinesAndLoans       149490 non-null  int64  \n",
      " 6   NumberOfTimes90DaysLate               149490 non-null  int64  \n",
      " 7   NumberRealEstateLoansOrLines          149490 non-null  int64  \n",
      " 8   NumberOfTime60-89DaysPastDueNotWorse  149490 non-null  int64  \n",
      " 9   NumberOfDependents                    145610 non-null  float64\n",
      "dtypes: float64(4), int64(6)\n",
      "memory usage: 12.5 MB\n"
     ]
    }
   ],
   "source": [
    "x = train_df.drop(\"SeriousDlqin2yrs\", axis=1)\n",
    "y = train_df[\"SeriousDlqin2yrs\"]\n",
    "x.info()"
   ]
  },
  {
   "cell_type": "markdown",
   "id": "6b851174",
   "metadata": {},
   "source": [
    "### Splitting dataset to training and validation set\n",
    "\n",
    "An essential step in creating and assessing machine learning models is dividing a dataset into a training set and a validation set. The validation set is used to assess the model's performance after it has been trained using the training set. The model may have overfitted to the training data if it performs well on the training set but badly on the validation set. On the other side, the model may be underfitting and failing to recognise the underlying patterns in the data if it performs badly on both the training and validation sets. We can identify and fix these problems by dividing the dataset into distinct training and validation sets."
   ]
  },
  {
   "cell_type": "code",
   "execution_count": 32,
   "id": "444a6abf",
   "metadata": {},
   "outputs": [],
   "source": [
    "x_train, x_val, y_train, y_val = train_test_split(x, y, test_size=0.3, random_state=0)\n"
   ]
  },
  {
   "cell_type": "markdown",
   "id": "a1612e26",
   "metadata": {},
   "source": [
    "### XGBClassifier\n",
    "For machine learning, XGBoost (eXtreme Gradient Boosting) is a well-liked and effective gradient boosting method. The gradient boosting approach is implemented by the class XGBClassifier in the XGBoost library for classification problems.\n",
    "Gradient boosting is a supervised learning technique that involves sequentially training a number of weak learners, or simple models, with the goal of correcting the flaws of the preceding model. Decision trees are used as the weak learners in the gradient boosting process by the XGBClassifier class of XGBoost. It contains a variety of hyperparameters that can be adjusted to enhance the model's functionality.\n"
   ]
  },
  {
   "cell_type": "code",
   "execution_count": 33,
   "id": "71a5cca3",
   "metadata": {
    "scrolled": true
   },
   "outputs": [],
   "source": [
    "from xgboost import XGBClassifier\n",
    "\n",
    "gs = XGBClassifier()\n",
    "parameters = {'n_estimators':[1018],\n",
    "              'colsample_bytree':[0.5],\n",
    "              'subsample': [0.8], \n",
    "              'max_depth': [6],\n",
    "              'min_child_weight': [3],\n",
    "              'learning_rate': [0.01]\n",
    "             }\n",
    "\n"
   ]
  },
  {
   "cell_type": "markdown",
   "id": "f8c34ad2",
   "metadata": {},
   "source": [
    "### GridSearchCV\n",
    "A scikit-learn method called GridSearchCV conducts an exhaustive search for an estimator over a given parameter grid. It is frequently used to adjust a machine learning model's hyperparameters in order to enhance performance."
   ]
  },
  {
   "cell_type": "code",
   "execution_count": 34,
   "id": "486eb8f3",
   "metadata": {},
   "outputs": [],
   "source": [
    "from sklearn.model_selection import GridSearchCV\n",
    "\n",
    "xgb_grid = GridSearchCV(gs,\n",
    "                        parameters,\n",
    "                        cv = 2,\n",
    "                        n_jobs = 5,\n",
    "                        verbose=True)"
   ]
  },
  {
   "cell_type": "markdown",
   "id": "f34d5271",
   "metadata": {},
   "source": [
    "### Model fit"
   ]
  },
  {
   "cell_type": "code",
   "execution_count": 35,
   "id": "8387f302",
   "metadata": {},
   "outputs": [
    {
     "name": "stdout",
     "output_type": "stream",
     "text": [
      "Fitting 2 folds for each of 1 candidates, totalling 2 fits\n",
      "0.9371959989373844\n",
      "{'colsample_bytree': 0.5, 'learning_rate': 0.01, 'max_depth': 6, 'min_child_weight': 3, 'n_estimators': 1018, 'subsample': 0.8}\n"
     ]
    }
   ],
   "source": [
    "lgbm_fit = xgb_grid.fit(x_train, y_train)\n",
    "print(lgbm_fit.best_score_)\n",
    "print(lgbm_fit.best_params_)"
   ]
  },
  {
   "cell_type": "code",
   "execution_count": 36,
   "id": "67726daa",
   "metadata": {},
   "outputs": [
    {
     "name": "stdout",
     "output_type": "stream",
     "text": [
      "Fitting 2 folds for each of 1 candidates, totalling 2 fits\n"
     ]
    },
    {
     "data": {
      "text/plain": [
       "GridSearchCV(cv=2,\n",
       "             estimator=XGBClassifier(base_score=None, booster=None,\n",
       "                                     callbacks=None, colsample_bylevel=None,\n",
       "                                     colsample_bynode=None,\n",
       "                                     colsample_bytree=None,\n",
       "                                     early_stopping_rounds=None,\n",
       "                                     enable_categorical=False, eval_metric=None,\n",
       "                                     feature_types=None, gamma=None,\n",
       "                                     gpu_id=None, grow_policy=None,\n",
       "                                     importance_type=None,\n",
       "                                     interaction_constraints=None,\n",
       "                                     learning_rate=None,...\n",
       "                                     max_delta_step=None, max_depth=None,\n",
       "                                     max_leaves=None, min_child_weight=None,\n",
       "                                     missing=nan, monotone_constraints=None,\n",
       "                                     n_estimators=100, n_jobs=None,\n",
       "                                     num_parallel_tree=None, predictor=None,\n",
       "                                     random_state=None, ...),\n",
       "             n_jobs=5,\n",
       "             param_grid={'colsample_bytree': [0.5], 'learning_rate': [0.01],\n",
       "                         'max_depth': [6], 'min_child_weight': [3],\n",
       "                         'n_estimators': [1018], 'subsample': [0.8]},\n",
       "             verbose=True)"
      ]
     },
     "execution_count": 36,
     "metadata": {},
     "output_type": "execute_result"
    }
   ],
   "source": [
    "final = lgbm_fit.fit(x_train, y_train)\n",
    "final"
   ]
  },
  {
   "cell_type": "markdown",
   "id": "0abe2fb5",
   "metadata": {},
   "source": [
    "### AUC score\n",
    "A binary classifier's performance is measured by the AUC (Area Under the Curve) score. It shows the likelihood that a randomly selected positive case would be ranked higher than a randomly selected negative instance by the classifier. A classifier that performs no better than random guessing has an AUC value of 0.5, whereas a perfect classifier has an AUC score of 1.0. \n",
    "A graphical plot called the ROC curve (Receiver Operating Characteristic curve) shows how a binary classifier system performs as the discrimination threshold is changed. Plotting the true positive rate (TPR) versus the false positive rate (FPR) at different categorization criteria results in the curve. A classifier is considered to be flawless if it produces a ROC curve that passes through the upper left corner of the plot and has a true positive rate of 100% and a false positive rate of 0%. A classifier with a true positive rate and false positive rate that are similar is considered to be a poor classifier and produces a ROC curve that is near to the diagonal line."
   ]
  },
  {
   "cell_type": "code",
   "execution_count": 37,
   "id": "c096882c",
   "metadata": {},
   "outputs": [
    {
     "name": "stdout",
     "output_type": "stream",
     "text": [
      "0.8633856365997313\n"
     ]
    },
    {
     "data": {
      "image/png": "[encoded data removed]",
      "text/plain": [
       "<Figure size 720x576 with 1 Axes>"
      ]
     },
     "metadata": {
      "needs_background": "light"
     },
     "output_type": "display_data"
    }
   ],
   "source": [
    "from sklearn.metrics import auc\n",
    "y_pred = final.predict_proba(x_val)[:,1]\n",
    "\n",
    "def plot_roc(y_test, y_predict):\n",
    "    fpr, tpr, _ = roc_curve(y_test, y_predict)\n",
    "    roc_auc = auc(fpr,tpr)\n",
    "    print(roc_auc)\n",
    "    plt.figure(figsize=(10,8))\n",
    "    plt.title(\"ROC curve\")\n",
    "    plt.plot(fpr, tpr, label='ROC curve (area = %0.2f)' % roc_auc)\n",
    "    plt.plot([0,1], [0,1],'r--')\n",
    "    plt.legend(loc=\"lower right\")\n",
    "plot_roc(y_val, y_pred)"
   ]
  },
  {
   "cell_type": "markdown",
   "id": "c8982111",
   "metadata": {},
   "source": [
    "From our result the AUC score is 0.8633."
   ]
  },
  {
   "cell_type": "markdown",
   "id": "e9c13b55",
   "metadata": {},
   "source": [
    "### Accuracy"
   ]
  },
  {
   "cell_type": "code",
   "execution_count": 38,
   "id": "ae4f30a1",
   "metadata": {},
   "outputs": [
    {
     "name": "stdout",
     "output_type": "stream",
     "text": [
      "training accuracy: 94.35\n",
      "validation accuracy: 93.86\n"
     ]
    }
   ],
   "source": [
    "print(\"training accuracy: {:.2f}\".format(lgbm_fit.score(x_train, y_train) * 100))\n",
    "print(\"validation accuracy: {:.2f}\".format(lgbm_fit.score(x_val, y_val) * 100))"
   ]
  },
  {
   "cell_type": "code",
   "execution_count": 39,
   "id": "103a6e6c",
   "metadata": {},
   "outputs": [],
   "source": [
    "x = test_df.drop([\"SeriousDlqin2yrs\"], axis=1)\n",
    "y = lgbm_fit.predict_proba(x)[:, 1]\n",
    "ids = x.index.values"
   ]
  },
  {
   "cell_type": "code",
   "execution_count": 40,
   "id": "5f3b8fee",
   "metadata": {},
   "outputs": [],
   "source": [
    "# ids = np.arange(1,len(y)+1)\n",
    "# submission = pd.DataFrame( {'Id': ids, 'Probability': y})\n",
    "# submission.to_csv(\"/kaggle/working/submission.csv\", index=False)"
   ]
  },
  {
   "cell_type": "markdown",
   "id": "7b9aa0bf",
   "metadata": {},
   "source": [
    "### Finding best features using XGBClassifier"
   ]
  },
  {
   "cell_type": "code",
   "execution_count": 41,
   "id": "084f767a",
   "metadata": {},
   "outputs": [
    {
     "data": {
      "text/plain": [
       "array([0.08683096, 0.02288735, 0.1763041 , 0.01989217, 0.01923904,\n",
       "       0.02182845, 0.41250953, 0.02358558, 0.2016375 , 0.01528533],\n",
       "      dtype=float32)"
      ]
     },
     "execution_count": 41,
     "metadata": {},
     "output_type": "execute_result"
    }
   ],
   "source": [
    "final.best_estimator_.feature_importances_"
   ]
  },
  {
   "cell_type": "code",
   "execution_count": 42,
   "id": "47fe8582",
   "metadata": {},
   "outputs": [
    {
     "data": {
      "text/plain": [
       "<BarContainer object of 10 artists>"
      ]
     },
     "execution_count": 42,
     "metadata": {},
     "output_type": "execute_result"
    },
    {
     "data": {
      "image/png": "[encoded data removed]",
      "text/plain": [
       "<Figure size 432x288 with 1 Axes>"
      ]
     },
     "metadata": {
      "needs_background": "light"
     },
     "output_type": "display_data"
    }
   ],
   "source": [
    "plt.barh(x_train.columns, final.best_estimator_.feature_importances_)\n"
   ]
  },
  {
   "cell_type": "markdown",
   "id": "b71a724f",
   "metadata": {},
   "source": [
    "From the bar graph we can see that highest score is for feature NumberOfTimes90DaysLate followed by NumberOfTime60-89DaysPastDueNotWorse, NumberOfTime30-59DaysPastDueNotWorse and RevolvingUtilizationOfUnsecuredLines."
   ]
  }
 ],
 "metadata": {
  "kernelspec": {
   "display_name": "Python 3 (ipykernel)",
   "language": "python",
   "name": "python3"
  },
  "language_info": {
   "codemirror_mode": {
    "name": "ipython",
    "version": 3
   },
   "file_extension": ".py",
   "mimetype": "text/x-python",
   "name": "python",
   "nbconvert_exporter": "python",
   "pygments_lexer": "ipython3",
   "version": "3.9.12"
  }
 },
 "nbformat": 4,
 "nbformat_minor": 5
}
